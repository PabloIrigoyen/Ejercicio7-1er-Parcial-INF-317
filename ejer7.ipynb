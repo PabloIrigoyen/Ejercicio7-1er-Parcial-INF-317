{
  "nbformat": 4,
  "nbformat_minor": 0,
  "metadata": {
    "colab": {
      "provenance": []
    },
    "kernelspec": {
      "name": "python3",
      "display_name": "Python 3"
    },
    "language_info": {
      "name": "python"
    }
  },
  "cells": [
    {
      "cell_type": "code",
      "execution_count": 2,
      "metadata": {
        "colab": {
          "base_uri": "https://localhost:8080/"
        },
        "id": "Y4utA838fzDQ",
        "outputId": "a379a6d5-625d-44bc-ee48-5f0098839533"
      },
      "outputs": [
        {
          "output_type": "stream",
          "name": "stdout",
          "text": [
            "Número de procesadores: 2\n",
            "Valor estimado de pi: 3.140796\n"
          ]
        }
      ],
      "source": [
        "import random\n",
        "import multiprocessing\n",
        "\n",
        "NUM_SAMPLES = 1000000\n",
        "\n",
        "def calculaPi(num_samples):\n",
        "    cl = 0\n",
        "    for _ in range(num_samples):\n",
        "        x = random.random()\n",
        "        y = random.random()\n",
        "        if x**2 + y**2 <= 1:\n",
        "            cl += 1\n",
        "    return cl\n",
        "\n",
        "if __name__ == '__main__':\n",
        "    num_processes = multiprocessing.cpu_count()\n",
        "    print(\"Número de procesadores:\", num_processes)\n",
        "    samples_per_process = [NUM_SAMPLES // num_processes] * num_processes\n",
        "\n",
        "    pool = multiprocessing.Pool(processes=num_processes)\n",
        "    results = pool.map(calculaPi, samples_per_process)\n",
        "    total_count = sum(results)\n",
        "\n",
        "    pi_estimate = 4.0 * total_count / NUM_SAMPLES\n",
        "    print(\"Valor estimado de pi:\", pi_estimate)\n"
      ]
    }
  ]
}